{
 "cells": [
  {
   "cell_type": "code",
   "execution_count": 5,
   "metadata": {},
   "outputs": [],
   "source": [
    "import torch \n",
    "import torch.nn as nn\n",
    "import numpy as np"
   ]
  },
  {
   "cell_type": "code",
   "execution_count": 2,
   "metadata": {},
   "outputs": [
    {
     "name": "stdout",
     "output_type": "stream",
     "text": [
      "softmax numpy: [0.65900114 0.24243297 0.09856589]\n"
     ]
    }
   ],
   "source": [
    "def softmax(x):\n",
    "    return np.exp(x) / np.sum(np.exp(x), axis=0)\n",
    "\n",
    "x = np.array([2.0, 1.0, 0.1])\n",
    "outputs = softmax(x)\n",
    "print('softmax numpy:', outputs)"
   ]
  },
  {
   "cell_type": "code",
   "execution_count": 3,
   "metadata": {},
   "outputs": [
    {
     "name": "stdout",
     "output_type": "stream",
     "text": [
      "tensor([0.6590, 0.2424, 0.0986])\n"
     ]
    }
   ],
   "source": [
    "x = torch.tensor([2.0, 1.0, 0.1])\n",
    "outputs = torch.softmax(x, dim=0)\n",
    "print(outputs)"
   ]
  },
  {
   "cell_type": "code",
   "execution_count": 4,
   "metadata": {},
   "outputs": [
    {
     "name": "stdout",
     "output_type": "stream",
     "text": [
      "0.35667494393873245 2.3025850929940455\n"
     ]
    }
   ],
   "source": [
    "def cross_entropy(actual, predicted):\n",
    "    loss = -np.sum(actual * np.log(predicted))\n",
    "    return loss\n",
    "Y = np.array([1, 0, 0])\n",
    "Y_g = np.array([0.7, 0.2, 0.1])\n",
    "Y_b = np.array([0.1, 0.3, 0.6])\n",
    "l1 = cross_entropy(Y, Y_g)\n",
    "l2 = cross_entropy(Y, Y_b)\n",
    "print(l1, l2)"
   ]
  },
  {
   "cell_type": "code",
   "execution_count": 9,
   "metadata": {},
   "outputs": [
    {
     "name": "stdout",
     "output_type": "stream",
     "text": [
      "0.00038556772051379085\n",
      "99.59314727783203\n",
      "tensor([0])\n",
      "tensor([1])\n"
     ]
    }
   ],
   "source": [
    "loss = nn.CrossEntropyLoss()\n",
    "\n",
    "Y = torch.tensor([0])\n",
    "# nsamples x nclasses = 1 x 3\n",
    "Y_g =  torch.tensor([[10.0, 2.0, 0.1]])\n",
    "Y_b = torch.tensor([[0.1, 99.0, 99.0]])\n",
    "\n",
    "l1 = loss(Y_g, Y)\n",
    "l2 = loss(Y_b, Y)\n",
    "\n",
    "print(l1.item())\n",
    "print(l2.item())\n",
    "\n",
    "_, predictions1 = torch.max(Y_g, 1)\n",
    "_, predictions2 = torch.max(Y_b, 1)\n",
    "print(predictions1)\n",
    "print(predictions2)"
   ]
  },
  {
   "cell_type": "code",
   "execution_count": 11,
   "metadata": {},
   "outputs": [
    {
     "name": "stdout",
     "output_type": "stream",
     "text": [
      "0.34326112270355225\n",
      "2.3358757495880127\n",
      "tensor([2, 0, 1])\n",
      "tensor([0, 2, 2])\n"
     ]
    }
   ],
   "source": [
    "Y = torch.tensor([2, 0, 1])\n",
    "\n",
    "# nsamples x nclasses = 3 x 3\n",
    "Y_g = torch.tensor([[0.1, 1.0, 2.1], [2.1, 1.0, 0.1], [0.1, 2.0, 0.1]])\n",
    "Y_b = torch.tensor([[2.1, 1.0, 0.1], [0.1, 1.0, 2.1], [0.1, 0.1, 2.1]])\n",
    "\n",
    "l1 = loss(Y_g, Y)\n",
    "l2 = loss(Y_b, Y)\n",
    "\n",
    "print(l1.item())\n",
    "print(l2.item())\n",
    "\n",
    "_, predictions1 = torch.max(Y_g, 1)\n",
    "_, predictions2 = torch.max(Y_b, 1)\n",
    "print(predictions1)\n",
    "print(predictions2)"
   ]
  }
 ],
 "metadata": {
  "kernelspec": {
   "display_name": "base",
   "language": "python",
   "name": "python3"
  },
  "language_info": {
   "codemirror_mode": {
    "name": "ipython",
    "version": 3
   },
   "file_extension": ".py",
   "mimetype": "text/x-python",
   "name": "python",
   "nbconvert_exporter": "python",
   "pygments_lexer": "ipython3",
   "version": "3.10.9"
  }
 },
 "nbformat": 4,
 "nbformat_minor": 2
}
